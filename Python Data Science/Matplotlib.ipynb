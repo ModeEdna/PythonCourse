{
 "cells": [
  {
   "cell_type": "markdown",
   "id": "285d69d8",
   "metadata": {},
   "source": [
    "# Matplotlib"
   ]
  },
  {
   "cell_type": "markdown",
   "id": "01c4a16a",
   "metadata": {},
   "source": [
    "### Basics"
   ]
  },
  {
   "cell_type": "code",
   "execution_count": null,
   "id": "43532716",
   "metadata": {},
   "outputs": [],
   "source": [
    "import matplotlib.pyplot as plt\n",
    "import numpy as np"
   ]
  },
  {
   "cell_type": "code",
   "execution_count": null,
   "id": "83edd397",
   "metadata": {},
   "outputs": [],
   "source": [
    "x = np.arange(0,10)\n",
    "y = x*2"
   ]
  },
  {
   "cell_type": "code",
   "execution_count": null,
   "id": "a0981d46",
   "metadata": {},
   "outputs": [],
   "source": [
    "# most basic plot\n",
    "plt.plot(x, y)\n",
    "# adding labels for the axes\n",
    "plt.xlabel('X label')\n",
    "plt.ylabel('Y label')\n",
    "# adding axes limits\n",
    "plt.xlim(0,10)\n",
    "plt.ylim(0,20)\n",
    "# adding a title\n",
    "plt.title('My plot')\n",
    "# saving the plot to a png file. you can select .jpg, etc.\n",
    "plt.savefig('myfirstplot.png')"
   ]
  },
  {
   "cell_type": "markdown",
   "id": "957e8340",
   "metadata": {},
   "source": [
    "### Matplotlib figure object"
   ]
  },
  {
   "cell_type": "code",
   "execution_count": null,
   "id": "4e7671ca",
   "metadata": {},
   "outputs": [],
   "source": [
    "# creating a blank canvas\n",
    "fig = plt.figure()\n",
    "# setting axes. 0, 0 is lower left corner and 1, 1 is upper right corner\n",
    "axes = fig.add_axes([0,0,1,1])\n",
    "# you can plot on top of the axes\n",
    "axes.plot(x,y)"
   ]
  },
  {
   "cell_type": "markdown",
   "id": "dd608cf3",
   "metadata": {},
   "source": [
    "### Implementing figures and axes"
   ]
  },
  {
   "cell_type": "code",
   "execution_count": null,
   "id": "23011728",
   "metadata": {},
   "outputs": [],
   "source": [
    "import matplotlib.pyplot as plt\n",
    "import numpy as np"
   ]
  },
  {
   "cell_type": "code",
   "execution_count": null,
   "id": "cadc66da",
   "metadata": {},
   "outputs": [],
   "source": [
    "# create data\n",
    "a = np.linspace(0,10,11)\n",
    "b = a**4\n",
    "x = np.arange(0,20)\n",
    "y = x*2"
   ]
  },
  {
   "cell_type": "code",
   "execution_count": null,
   "id": "6466105f",
   "metadata": {},
   "outputs": [],
   "source": [
    "# two plots in one canvas\n",
    "# figure canvas\n",
    "fig = plt.figure()\n",
    "\n",
    "# large set of axes\n",
    "axes = fig.add_axes([0,0,1,1])\n",
    "axes.plot(a,b)\n",
    "axes.set_xlim(0,8)\n",
    "axes.set_ylim(0,8000)\n",
    "axes.set_xlabel('A')\n",
    "axes.set_ylabel('B')\n",
    "axes.set_title('TT')\n",
    "\n",
    "# small set of axes. 0.5s are the ratio width and height to the original canvas. 0.2 is relative as well\n",
    "axes2 = fig.add_axes([0.1, .6, 0.25, 0.25])\n",
    "axes2.plot(a,b)\n",
    "axes2.set_xlim(1,2)\n",
    "axes2.set_ylim(0,50)\n",
    "axes2.set_xlabel('A')\n",
    "axes2.set_ylabel('B')\n",
    "axes2.set_title('Zoomed in');"
   ]
  },
  {
   "cell_type": "markdown",
   "id": "98e72367",
   "metadata": {},
   "source": [
    "### Figure parameters"
   ]
  },
  {
   "cell_type": "code",
   "execution_count": null,
   "id": "f75131cb",
   "metadata": {},
   "outputs": [],
   "source": [
    "# some fig parameters. dpi is dots per inch and fig size is the size of the figure\n",
    "fig = plt.figure(figsize=(2,2),dpi=100)\n",
    "axes1 = fig.add_axes([0,0,1,1])\n",
    "axes1.plot(a,b)\n",
    "\n",
    "# exporting a figure. tight allows you to see the inches as expected when you save\n",
    "fig.savefig('new_fig.png', bbox_inches='tight')"
   ]
  },
  {
   "cell_type": "markdown",
   "id": "ffaba423",
   "metadata": {},
   "source": [
    "### Subplots"
   ]
  },
  {
   "cell_type": "code",
   "execution_count": 5,
   "id": "4951f27a",
   "metadata": {},
   "outputs": [],
   "source": [
    "import matplotlib.pyplot as plt\n",
    "import numpy as np"
   ]
  },
  {
   "cell_type": "code",
   "execution_count": 6,
   "id": "058f1cb5",
   "metadata": {},
   "outputs": [],
   "source": [
    "a = np.linspace(0,10,11)\n",
    "b = a ** 4\n",
    "x = np.arange(0,10)\n",
    "y = x * 2"
   ]
  },
  {
   "cell_type": "code",
   "execution_count": 23,
   "id": "032643d7",
   "metadata": {},
   "outputs": [
    {
     "data": {
      "image/png": "[encoded data removed]",
      "text/plain": [
       "<Figure size 432x288 with 4 Axes>"
      ]
     },
     "metadata": {
      "needs_background": "light"
     },
     "output_type": "display_data"
    }
   ],
   "source": [
    "# create subplots and plot data on desired plot\n",
    "fig,axes = plt.subplots(nrows=2, ncols=2)\n",
    "axes[0][0].plot(x,y)\n",
    "axes[0][1].plot(a,b)\n",
    "axes[1][0].plot(a,b)\n",
    "axes[1][1].plot(a,b)\n",
    "\n",
    "# set labels. same as before but grab the set of axes you want to change\n",
    "axes[0][0].set_xlabel('Label')\n",
    "\n",
    "# plt.tight_layout() # tries to ensure no axes' tickers overlap. automatic\n",
    "fig.subplots_adjust(wspace=0.5,hspace=0.5) # can use this for formatting subplots. manual\n",
    "\n",
    "# title for the entire thing rather than per plot\n",
    "fig.suptitle('Title',fontsize=16);"
   ]
  },
  {
   "cell_type": "markdown",
   "id": "dca8929a",
   "metadata": {},
   "source": [
    "### Legends"
   ]
  },
  {
   "cell_type": "code",
   "execution_count": 24,
   "id": "a918cf59",
   "metadata": {},
   "outputs": [],
   "source": [
    "import matplotlib.pyplot as plt\n",
    "import numpy as np"
   ]
  },
  {
   "cell_type": "code",
   "execution_count": 25,
   "id": "c61dcb31",
   "metadata": {},
   "outputs": [],
   "source": [
    "x = np.linspace(0,11,10)"
   ]
  },
  {
   "cell_type": "code",
   "execution_count": 33,
   "id": "e02ef819",
   "metadata": {},
   "outputs": [
    {
     "data": {
      "image/png": "[encoded data removed]",
      "text/plain": [
       "<Figure size 432x288 with 1 Axes>"
      ]
     },
     "metadata": {
      "needs_background": "light"
     },
     "output_type": "display_data"
    }
   ],
   "source": [
    "# adding legends to the plot\n",
    "# create a label at the plot and then call legend()\n",
    "fig = plt.figure()\n",
    "\n",
    "ax = fig.add_axes([0,0,1,1])\n",
    "\n",
    "ax.plot(x,x, label='XvX')\n",
    "ax.plot(x,x**2,label='X^2')\n",
    "\n",
    "# ax.legend(loc=0)\n",
    "ax.legend(loc=(1.05,0.5)); # loc decides where to put the legend. you can add negative values"
   ]
  },
  {
   "cell_type": "markdown",
   "id": "853402d2",
   "metadata": {},
   "source": [
    "### Colors and styles"
   ]
  },
  {
   "cell_type": "code",
   "execution_count": 34,
   "id": "a97bf2e0",
   "metadata": {},
   "outputs": [],
   "source": [
    "import matplotlib.pyplot as plt\n",
    "import numpy as np"
   ]
  },
  {
   "cell_type": "code",
   "execution_count": 35,
   "id": "4a535a5a",
   "metadata": {},
   "outputs": [],
   "source": [
    "x = np.linspace(0,11,10)"
   ]
  },
  {
   "cell_type": "code",
   "execution_count": 56,
   "id": "6d6c276d",
   "metadata": {},
   "outputs": [
    {
     "data": {
      "image/png": "[encoded data removed]",
      "text/plain": [
       "<Figure size 432x288 with 1 Axes>"
      ]
     },
     "metadata": {
      "needs_background": "light"
     },
     "output_type": "display_data"
    }
   ],
   "source": [
    "fig = plt.figure()\n",
    "ax = fig.add_axes([0,0,1,1])\n",
    "\n",
    "# choose the color of the line. the color can also be a HEX code. lw is line width. ls is linestyle\n",
    "# marker marks the values from the data. ms is marker size\n",
    "ax.plot(x,x, color='red', lw=2, ls='--', marker='o',ms=7,markerfacecolor='blue',markeredgewidth=4,markeredgecolor='orange');"
   ]
  },
  {
   "cell_type": "markdown",
   "id": "04b6afde",
   "metadata": {},
   "source": [
    "### Advanced commands"
   ]
  },
  {
   "cell_type": "code",
   "execution_count": null,
   "id": "9ca47e4a",
   "metadata": {},
   "outputs": [],
   "source": []
  }
 ],
 "metadata": {
  "kernelspec": {
   "display_name": "Python 3",
   "language": "python",
   "name": "python3"
  },
  "language_info": {
   "codemirror_mode": {
    "name": "ipython",
    "version": 3
   },
   "file_extension": ".py",
   "mimetype": "text/x-python",
   "name": "python",
   "nbconvert_exporter": "python",
   "pygments_lexer": "ipython3",
   "version": "3.8.8"
  }
 },
 "nbformat": 4,
 "nbformat_minor": 5
}
