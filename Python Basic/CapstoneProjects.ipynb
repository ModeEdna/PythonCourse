{
 "cells": [
  {
   "cell_type": "markdown",
   "id": "16031959",
   "metadata": {},
   "source": [
    "## Pi to the nth decimal"
   ]
  },
  {
   "cell_type": "code",
   "execution_count": null,
   "id": "e5129c6d",
   "metadata": {},
   "outputs": [],
   "source": [
    "# pi to the nth\n",
    "import numpy as np\n",
    "\n",
    "def pi_nth():\n",
    "    done = False\n",
    "    while done == False:\n",
    "        n = int(input('How many decimals do you want (0-15)?'))\n",
    "        if n <= 15 and n>= 0:\n",
    "            return round(np.pi, n)\n",
    "            done = True\n",
    "        else:\n",
    "            print('Choose a number from 0-15')\n",
    "            pass"
   ]
  },
  {
   "cell_type": "code",
   "execution_count": null,
   "id": "7913460b",
   "metadata": {},
   "outputs": [],
   "source": [
    "pi_nth()"
   ]
  },
  {
   "cell_type": "markdown",
   "id": "79f7e7e5",
   "metadata": {},
   "source": [
    "## e to the nth decimal"
   ]
  },
  {
   "cell_type": "code",
   "execution_count": null,
   "id": "c72b729c",
   "metadata": {},
   "outputs": [],
   "source": [
    "# e to the nth\n",
    "import numpy as np\n",
    "\n",
    "def e_nth():\n",
    "    done = False\n",
    "    while done == False:\n",
    "        n = int(input('How many decimals do you want (0-15)?'))\n",
    "        if n <= 15 and n>= 0:\n",
    "            return round(np.e, n)\n",
    "            done = True\n",
    "        else:\n",
    "            print('Choose a number from 0-15')\n",
    "            pass"
   ]
  },
  {
   "cell_type": "code",
   "execution_count": null,
   "id": "5d2c0bfb",
   "metadata": {},
   "outputs": [],
   "source": [
    "e_nth()"
   ]
  },
  {
   "cell_type": "markdown",
   "id": "33d8d291",
   "metadata": {},
   "source": [
    "## Fibonacci sequence"
   ]
  },
  {
   "cell_type": "code",
   "execution_count": null,
   "id": "92725379",
   "metadata": {},
   "outputs": [],
   "source": [
    "# Fibonacci sequence up to n-th term\n",
    "\n",
    "def fib():\n",
    "    \n",
    "    nterms = int(input(\"How many terms? \"))\n",
    "    n1, n2 = 0, 1\n",
    "    count = 0\n",
    "\n",
    "    if nterms <= 0:\n",
    "       print(\"Please enter a positive integer\")\n",
    "    elif nterms == 1:\n",
    "       print(\"Fibonacci sequence \",nterms,\":\")\n",
    "       print(n1)\n",
    "    else:\n",
    "       print(\"Fibonacci sequence:\")\n",
    "       while count < nterms:\n",
    "           print(n1)\n",
    "           nth = n1 + n2\n",
    "           # update values\n",
    "           n1 = n2\n",
    "           n2 = nth\n",
    "           count += 1  "
   ]
  },
  {
   "cell_type": "code",
   "execution_count": null,
   "id": "d49c2766",
   "metadata": {},
   "outputs": [],
   "source": [
    "fib()"
   ]
  },
  {
   "cell_type": "markdown",
   "id": "e2d75ac4",
   "metadata": {},
   "source": [
    "## Prime factorization"
   ]
  },
  {
   "cell_type": "code",
   "execution_count": 31,
   "id": "fec3284e",
   "metadata": {},
   "outputs": [],
   "source": [
    "# finding the prime factors of a number\n",
    "\n",
    "import math  \n",
    "\n",
    "def prime_factors(num):  \n",
    "    while num % 2 == 0:  \n",
    "        print(2,)  \n",
    "        num = num / 2    \n",
    "    for i in range(3, int(math.sqrt(num)) + 1, 2):    \n",
    "        while num % i == 0:  \n",
    "            print(i,)  \n",
    "            num = num / i  \n",
    "    if num > 2:  \n",
    "        print(num)  "
   ]
  },
  {
   "cell_type": "code",
   "execution_count": 30,
   "id": "044f0af0",
   "metadata": {},
   "outputs": [
    {
     "name": "stdout",
     "output_type": "stream",
     "text": [
      "2\n",
      "3\n",
      "13.0\n"
     ]
    }
   ],
   "source": [
    "prime_factors(78)"
   ]
  },
  {
   "cell_type": "markdown",
   "id": "3ecf7c7b",
   "metadata": {},
   "source": [
    "## Next prime number"
   ]
  },
  {
   "cell_type": "code",
   "execution_count": 24,
   "id": "6fea73f2",
   "metadata": {},
   "outputs": [],
   "source": [
    "# find the next prime number\n",
    "\n",
    "def main():\n",
    "    n = int(input('Find the next prime number greater great than: '))\n",
    "    prime = next_prime(n+1, 2*n)\n",
    "    print(f\"Next prime is {prime}\")\n",
    "\n",
    "def next_prime(a, b):\n",
    "    for p in range(a, b):\n",
    "        for i in range(2, p):\n",
    "            if p % i == 0:\n",
    "                break\n",
    "        else:\n",
    "            return p\n",
    "    return None"
   ]
  },
  {
   "cell_type": "code",
   "execution_count": 25,
   "id": "66b62072",
   "metadata": {},
   "outputs": [
    {
     "name": "stdout",
     "output_type": "stream",
     "text": [
      "Find the next prime number greater great than: 89\n",
      "Next prime is 97\n"
     ]
    }
   ],
   "source": [
    "main()"
   ]
  },
  {
   "cell_type": "markdown",
   "id": "4fe427be",
   "metadata": {},
   "source": [
    "## Total cost tile"
   ]
  },
  {
   "cell_type": "code",
   "execution_count": 34,
   "id": "d6445cfd",
   "metadata": {},
   "outputs": [],
   "source": [
    "# tells you the cost of floor tiling\n",
    "\n",
    "def cost_of_floor():\n",
    "    w = int(input(\"What is the width of the floor? \"))\n",
    "    l = int(input(\"What is the length of the floor? \"))\n",
    "    c = int(input(\"What is the cost of the tile? \"))\n",
    "    return f\"Your cost will be of {w*l*c}\""
   ]
  },
  {
   "cell_type": "code",
   "execution_count": 35,
   "id": "acd4cfe6",
   "metadata": {},
   "outputs": [
    {
     "name": "stdout",
     "output_type": "stream",
     "text": [
      "What is the width of the floor? 21\n",
      "What is the length of the floor? 10\n",
      "What is the cost of the tile? 10\n"
     ]
    },
    {
     "data": {
      "text/plain": [
       "'Your cost will be of 2100'"
      ]
     },
     "execution_count": 35,
     "metadata": {},
     "output_type": "execute_result"
    }
   ],
   "source": [
    "cost_of_floor()"
   ]
  },
  {
   "cell_type": "markdown",
   "id": "a6f78f4e",
   "metadata": {},
   "source": [
    "## Change return program"
   ]
  },
  {
   "cell_type": "code",
   "execution_count": 57,
   "id": "5d5df9b8",
   "metadata": {},
   "outputs": [],
   "source": [
    "def change_return():\n",
    "    pay = int(input(\"How much money did the customer give? \"))\n",
    "    price = int(input(\"Cost of the merchandise? \"))\n",
    "    pay = pay * 100\n",
    "    price = price * 100\n",
    "    change = pay - price\n",
    "    if change >= 0:\n",
    "        print(f\"The change will be ${change}\")        \n",
    "    else:\n",
    "        print(f\"The customer owes ${change*-1}\")"
   ]
  },
  {
   "cell_type": "code",
   "execution_count": 58,
   "id": "da98c116",
   "metadata": {},
   "outputs": [
    {
     "name": "stdout",
     "output_type": "stream",
     "text": [
      "How much money did the customer give? 24\n",
      "Cost of the merchandise? 45\n",
      "The customer owes $21\n"
     ]
    }
   ],
   "source": [
    "change_return()"
   ]
  },
  {
   "cell_type": "markdown",
   "id": "54c4455f",
   "metadata": {},
   "source": [
    "## Coin flip"
   ]
  },
  {
   "cell_type": "code",
   "execution_count": 79,
   "id": "5568288e",
   "metadata": {},
   "outputs": [],
   "source": [
    "import random as rand\n",
    "import time\n",
    "def coin_flip():\n",
    "    mylist = []\n",
    "    flips = int(input(\"How many times would you like to flip the coin? \"))\n",
    "    if isinstance(flips, int) == False or flips < 1:\n",
    "        print(\"Please select a positive integer\")\n",
    "        time.sleep(3)\n",
    "        coin_flip()\n",
    "    else:\n",
    "        pass\n",
    "    for x in range(flips):\n",
    "        coin = rand.randint(2,3)\n",
    "        if coin == 2:\n",
    "            mylist.append('H')\n",
    "        elif coin == 3:\n",
    "            mylist.append('T')\n",
    "    result = dict((i, mylist.count(i)) for i in mylist)\n",
    "    print(result)"
   ]
  },
  {
   "cell_type": "code",
   "execution_count": 80,
   "id": "ad87083a",
   "metadata": {},
   "outputs": [
    {
     "name": "stdout",
     "output_type": "stream",
     "text": [
      "How many times would you like to flip the coin? 8\n",
      "{'H': 3, 'T': 5}\n"
     ]
    }
   ],
   "source": [
    "coin_flip()"
   ]
  }
 ],
 "metadata": {
  "kernelspec": {
   "display_name": "Python 3",
   "language": "python",
   "name": "python3"
  },
  "language_info": {
   "codemirror_mode": {
    "name": "ipython",
    "version": 3
   },
   "file_extension": ".py",
   "mimetype": "text/x-python",
   "name": "python",
   "nbconvert_exporter": "python",
   "pygments_lexer": "ipython3",
   "version": "3.8.8"
  }
 },
 "nbformat": 4,
 "nbformat_minor": 5
}
