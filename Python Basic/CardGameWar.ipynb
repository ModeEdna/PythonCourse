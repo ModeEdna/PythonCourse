{
 "cells": [
  {
   "cell_type": "markdown",
   "id": "d20bc07d",
   "metadata": {},
   "source": [
    "## Card class"
   ]
  },
  {
   "cell_type": "code",
   "execution_count": null,
   "id": "992d9bc4",
   "metadata": {},
   "outputs": [],
   "source": [
    "# CARD\n",
    "# SUIT, RANK, VALUE\n",
    "\n",
    "import random\n",
    "suits = ('Hearts', 'Diamonds', 'Spades', 'Clubs')\n",
    "ranks = ('Two', 'Three', 'Four', 'Five', 'Six', 'Seven', 'Eight', 'Nine', 'Ten', 'Jack', 'Queen', 'King', 'Ace')\n",
    "values = {'Two':2, 'Three':3, 'Four':4, 'Five':5, 'Six':6, 'Seven':7, 'Eight':8, 'Nine':9, 'Ten':10, 'Jack':11,\n",
    "          'Queen':12, 'King':13, 'Ace':14}"
   ]
  },
  {
   "cell_type": "code",
   "execution_count": null,
   "id": "9b359da9",
   "metadata": {},
   "outputs": [],
   "source": [
    "# card class\n",
    "class CARD():\n",
    "    \n",
    "    def __init__(self, suit, rank):\n",
    "        self.suit = suit\n",
    "        self.rank = rank\n",
    "        self.value = values[rank]\n",
    "        \n",
    "    def __str__(self):\n",
    "        return self.rank + \" of \" + self.suit"
   ]
  },
  {
   "cell_type": "markdown",
   "id": "2cf243ba",
   "metadata": {},
   "source": [
    "## Deck class"
   ]
  },
  {
   "cell_type": "code",
   "execution_count": null,
   "id": "cad41b38",
   "metadata": {},
   "outputs": [],
   "source": [
    "# deck class\n",
    "class DECK():\n",
    "    \n",
    "    def __init__(self):\n",
    "        self.all_cards = []\n",
    "        for suit in suits:\n",
    "            for rank in ranks:\n",
    "                created_card = CARD(suit, rank)\n",
    "                self.all_cards.append(created_card)\n",
    "                \n",
    "    def shuffle(self):\n",
    "        random.shuffle(self.all_cards)\n",
    "        \n",
    "    def deal_one(self):\n",
    "        return self.all_cards.pop()"
   ]
  },
  {
   "cell_type": "code",
   "execution_count": null,
   "id": "14852912",
   "metadata": {},
   "outputs": [],
   "source": [
    "new_deck = DECK()"
   ]
  },
  {
   "cell_type": "code",
   "execution_count": null,
   "id": "eb5adf69",
   "metadata": {},
   "outputs": [],
   "source": [
    "first_card = new_deck.all_cards[-1]"
   ]
  },
  {
   "cell_type": "code",
   "execution_count": null,
   "id": "be8298de",
   "metadata": {},
   "outputs": [],
   "source": [
    "print(first_card)"
   ]
  },
  {
   "cell_type": "code",
   "execution_count": null,
   "id": "2b106b61",
   "metadata": {},
   "outputs": [],
   "source": [
    "new_deck.shuffle()"
   ]
  },
  {
   "cell_type": "code",
   "execution_count": null,
   "id": "16bd1ec4",
   "metadata": {},
   "outputs": [],
   "source": [
    "print(new_deck.all_cards[-1])"
   ]
  },
  {
   "cell_type": "code",
   "execution_count": null,
   "id": "82b8eb40",
   "metadata": {},
   "outputs": [],
   "source": [
    "my_card = new_deck.deal_one()"
   ]
  },
  {
   "cell_type": "code",
   "execution_count": null,
   "id": "f80251ab",
   "metadata": {},
   "outputs": [],
   "source": [
    "print(my_card)"
   ]
  },
  {
   "cell_type": "code",
   "execution_count": null,
   "id": "a11f78ca",
   "metadata": {},
   "outputs": [],
   "source": [
    "len(new_deck.all_cards)"
   ]
  },
  {
   "cell_type": "markdown",
   "id": "2e245ea0",
   "metadata": {},
   "source": [
    "## Player class"
   ]
  },
  {
   "cell_type": "code",
   "execution_count": null,
   "id": "a6c515be",
   "metadata": {},
   "outputs": [],
   "source": [
    "# player class\n",
    "class PLAYER():\n",
    "    \n",
    "    def __init__(self, name):\n",
    "        self.name = name\n",
    "        self.all_cards = []\n",
    "        \n",
    "    def remove_one(self):\n",
    "        return self.all_cards.pop(0)\n",
    "    \n",
    "    def add_cards(self, new_cards):\n",
    "        if type(new_cards) == type([]):\n",
    "            # list of multiple card objects\n",
    "            self.all_cards.extend(new_cards)\n",
    "        else:\n",
    "            # single card\n",
    "            self.all_cards.append(new_cards)\n",
    "    \n",
    "    def __str__(self):\n",
    "        return f'Player {self.name} has {len(self.all_cards)} cards'"
   ]
  },
  {
   "cell_type": "code",
   "execution_count": null,
   "id": "dbecff9b",
   "metadata": {},
   "outputs": [],
   "source": [
    "new_player = PLAYER('Edy')"
   ]
  },
  {
   "cell_type": "code",
   "execution_count": null,
   "id": "337e2d12",
   "metadata": {},
   "outputs": [],
   "source": [
    "print(new_player)"
   ]
  },
  {
   "cell_type": "markdown",
   "id": "81763ff9",
   "metadata": {},
   "source": [
    "## Logic"
   ]
  },
  {
   "cell_type": "code",
   "execution_count": null,
   "id": "6972274f",
   "metadata": {},
   "outputs": [],
   "source": [
    "# Game setup\n",
    "player_one = PLAYER('one')\n",
    "player_two = PLAYER('two')\n",
    "\n",
    "new_deck = DECK()\n",
    "new_deck.shuffle()\n",
    "\n",
    "for x in range(26):\n",
    "    player_one.add_cards(new_deck.deal_one())\n",
    "    player_two.add_cards(new_deck.deal_one())"
   ]
  },
  {
   "cell_type": "code",
   "execution_count": null,
   "id": "2a28a27d",
   "metadata": {},
   "outputs": [],
   "source": [
    "game_on = True\n",
    "round_num = 0\n",
    "while game_on:\n",
    "    \n",
    "    round_num += 1\n",
    "    print(f'round number {round_num}')\n",
    "    \n",
    "    if len(player_one.all_cards) == 0:\n",
    "        print(\"Player one out of cards, player two wins!\")\n",
    "        game_on = False\n",
    "        break\n",
    "        \n",
    "    if len(player_two.all_cards) == 0:\n",
    "        print(\"Player two out of cards, player one wins!\")\n",
    "        game_on = False\n",
    "        break\n",
    "        \n",
    "    # Start a new round\n",
    "    player_one_cards = []\n",
    "    player_one_cards.append(player_one.remove_one())\n",
    "    \n",
    "    player_two_cards = []\n",
    "    player_two_cards.append(player_two.remove_one())\n",
    "    \n",
    "    \n",
    "    # While at war\n",
    "    at_war = True\n",
    "    \n",
    "    while at_war:\n",
    "        if player_one_cards[-1].value >  player_two_cards[-1].value:\n",
    "            player_one.add_cards(player_one_cards)\n",
    "            player_one.add_cards(player_two_cards)\n",
    "            at_war = False\n",
    "        elif player_two_cards[-1].value >  player_one_cards[-1].value:\n",
    "            player_two.add_cards(player_two_cards)\n",
    "            player_two.add_cards(player_one_cards)\n",
    "            at_war = False\n",
    "        else:\n",
    "            print(\"WAR\")\n",
    "            if len(player_one.all_cards) < 5:\n",
    "                print('Player one unable to go to war')\n",
    "                print('Player two wins')\n",
    "                game_on = False\n",
    "                break\n",
    "            elif len(player_two.all_cards) < 5:\n",
    "                print('Player two unable to go to war')\n",
    "                print('Player one wins')\n",
    "                game_on = False\n",
    "                break\n",
    "            else:\n",
    "                for num in range(3):\n",
    "                    player_one_cards.append(player_one.remove_one())\n",
    "                    player_two_cards.append(player_two.remove_one())"
   ]
  },
  {
   "cell_type": "code",
   "execution_count": null,
   "id": "80df90d1",
   "metadata": {},
   "outputs": [],
   "source": []
  }
 ],
 "metadata": {
  "kernelspec": {
   "display_name": "Python 3",
   "language": "python",
   "name": "python3"
  },
  "language_info": {
   "codemirror_mode": {
    "name": "ipython",
    "version": 3
   },
   "file_extension": ".py",
   "mimetype": "text/x-python",
   "name": "python",
   "nbconvert_exporter": "python",
   "pygments_lexer": "ipython3",
   "version": "3.8.8"
  }
 },
 "nbformat": 4,
 "nbformat_minor": 5
}
